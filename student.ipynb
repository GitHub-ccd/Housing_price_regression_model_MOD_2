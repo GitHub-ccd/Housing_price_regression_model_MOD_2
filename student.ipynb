{
 "cells": [
  {
   "cell_type": "markdown",
   "metadata": {},
   "source": [
    "<p style=\"font-size:300%; text-align:center\"> king county housing price modeling</p>\n",
    "<p style=\"font-size:150%; text-align:center\"> MOD2 Final Project</p>\n",
    "\n",
    "\n",
    "Please fill out:\n",
    "* Student name: Chamila C. Dharmawardhana\n",
    "* Student pace: self paced / part time / full time\n",
    "* Scheduled project review date/time: \n",
    "* Instructor name: \n",
    "* Blog post URL:\n"
   ]
  },
  {
   "cell_type": "code",
   "execution_count": 28,
   "metadata": {},
   "outputs": [],
   "source": [
    "# import libraries\n",
    "import pandas as pd\n",
    "import numpy as np\n",
    "import seaborn as sns\n",
    "import matplotlib.pyplot as plt\n",
    "import folium \n",
    "# %matplotlib inline\n",
    "plt.style.use('ggplot')"
   ]
  },
  {
   "cell_type": "code",
   "execution_count": 2,
   "metadata": {},
   "outputs": [
    {
     "data": {
      "text/html": [
       "<div>\n",
       "<style scoped>\n",
       "    .dataframe tbody tr th:only-of-type {\n",
       "        vertical-align: middle;\n",
       "    }\n",
       "\n",
       "    .dataframe tbody tr th {\n",
       "        vertical-align: top;\n",
       "    }\n",
       "\n",
       "    .dataframe thead th {\n",
       "        text-align: right;\n",
       "    }\n",
       "</style>\n",
       "<table border=\"1\" class=\"dataframe\">\n",
       "  <thead>\n",
       "    <tr style=\"text-align: right;\">\n",
       "      <th></th>\n",
       "      <th>6227</th>\n",
       "      <th>705</th>\n",
       "      <th>2986</th>\n",
       "    </tr>\n",
       "  </thead>\n",
       "  <tbody>\n",
       "    <tr>\n",
       "      <td>id</td>\n",
       "      <td>2024069008</td>\n",
       "      <td>7203600550</td>\n",
       "      <td>825079019</td>\n",
       "    </tr>\n",
       "    <tr>\n",
       "      <td>date</td>\n",
       "      <td>6/19/2014</td>\n",
       "      <td>8/4/2014</td>\n",
       "      <td>12/3/2014</td>\n",
       "    </tr>\n",
       "    <tr>\n",
       "      <td>price</td>\n",
       "      <td>2.2e+06</td>\n",
       "      <td>325000</td>\n",
       "      <td>590000</td>\n",
       "    </tr>\n",
       "    <tr>\n",
       "      <td>bedrooms</td>\n",
       "      <td>5</td>\n",
       "      <td>2</td>\n",
       "      <td>3</td>\n",
       "    </tr>\n",
       "    <tr>\n",
       "      <td>bathrooms</td>\n",
       "      <td>4.75</td>\n",
       "      <td>1</td>\n",
       "      <td>2.5</td>\n",
       "    </tr>\n",
       "    <tr>\n",
       "      <td>sqft_living</td>\n",
       "      <td>5990</td>\n",
       "      <td>1060</td>\n",
       "      <td>3360</td>\n",
       "    </tr>\n",
       "    <tr>\n",
       "      <td>sqft_lot</td>\n",
       "      <td>10450</td>\n",
       "      <td>5703</td>\n",
       "      <td>218235</td>\n",
       "    </tr>\n",
       "    <tr>\n",
       "      <td>floors</td>\n",
       "      <td>2</td>\n",
       "      <td>1</td>\n",
       "      <td>1</td>\n",
       "    </tr>\n",
       "    <tr>\n",
       "      <td>waterfront</td>\n",
       "      <td>1</td>\n",
       "      <td>0</td>\n",
       "      <td>0</td>\n",
       "    </tr>\n",
       "    <tr>\n",
       "      <td>view</td>\n",
       "      <td>4</td>\n",
       "      <td>2</td>\n",
       "      <td>0</td>\n",
       "    </tr>\n",
       "    <tr>\n",
       "      <td>condition</td>\n",
       "      <td>3</td>\n",
       "      <td>4</td>\n",
       "      <td>3</td>\n",
       "    </tr>\n",
       "    <tr>\n",
       "      <td>grade</td>\n",
       "      <td>11</td>\n",
       "      <td>6</td>\n",
       "      <td>8</td>\n",
       "    </tr>\n",
       "    <tr>\n",
       "      <td>sqft_above</td>\n",
       "      <td>4050</td>\n",
       "      <td>1060</td>\n",
       "      <td>3360</td>\n",
       "    </tr>\n",
       "    <tr>\n",
       "      <td>sqft_basement</td>\n",
       "      <td>1940.0</td>\n",
       "      <td>0.0</td>\n",
       "      <td>0.0</td>\n",
       "    </tr>\n",
       "    <tr>\n",
       "      <td>yr_built</td>\n",
       "      <td>2002</td>\n",
       "      <td>1946</td>\n",
       "      <td>1989</td>\n",
       "    </tr>\n",
       "    <tr>\n",
       "      <td>yr_renovated</td>\n",
       "      <td>0</td>\n",
       "      <td>0</td>\n",
       "      <td>0</td>\n",
       "    </tr>\n",
       "    <tr>\n",
       "      <td>zipcode</td>\n",
       "      <td>98027</td>\n",
       "      <td>98198</td>\n",
       "      <td>98014</td>\n",
       "    </tr>\n",
       "    <tr>\n",
       "      <td>lat</td>\n",
       "      <td>47.5554</td>\n",
       "      <td>47.3444</td>\n",
       "      <td>47.6601</td>\n",
       "    </tr>\n",
       "    <tr>\n",
       "      <td>long</td>\n",
       "      <td>-122.077</td>\n",
       "      <td>-122.327</td>\n",
       "      <td>-121.946</td>\n",
       "    </tr>\n",
       "    <tr>\n",
       "      <td>sqft_living15</td>\n",
       "      <td>3330</td>\n",
       "      <td>2240</td>\n",
       "      <td>2650</td>\n",
       "    </tr>\n",
       "    <tr>\n",
       "      <td>sqft_lot15</td>\n",
       "      <td>14810</td>\n",
       "      <td>4416</td>\n",
       "      <td>220849</td>\n",
       "    </tr>\n",
       "  </tbody>\n",
       "</table>\n",
       "</div>"
      ],
      "text/plain": [
       "                     6227        705        2986\n",
       "id             2024069008  7203600550  825079019\n",
       "date            6/19/2014    8/4/2014  12/3/2014\n",
       "price             2.2e+06      325000     590000\n",
       "bedrooms                5           2          3\n",
       "bathrooms            4.75           1        2.5\n",
       "sqft_living          5990        1060       3360\n",
       "sqft_lot            10450        5703     218235\n",
       "floors                  2           1          1\n",
       "waterfront              1           0          0\n",
       "view                    4           2          0\n",
       "condition               3           4          3\n",
       "grade                  11           6          8\n",
       "sqft_above           4050        1060       3360\n",
       "sqft_basement      1940.0         0.0        0.0\n",
       "yr_built             2002        1946       1989\n",
       "yr_renovated            0           0          0\n",
       "zipcode             98027       98198      98014\n",
       "lat               47.5554     47.3444    47.6601\n",
       "long             -122.077    -122.327   -121.946\n",
       "sqft_living15        3330        2240       2650\n",
       "sqft_lot15          14810        4416     220849"
      ]
     },
     "metadata": {},
     "output_type": "display_data"
    },
    {
     "data": {
      "text/plain": [
       "21597"
      ]
     },
     "metadata": {},
     "output_type": "display_data"
    }
   ],
   "source": [
    "df = pd.read_csv('data/kc_house_data.csv') \n",
    "display(df.sample(3).T, len(df)) # took the transpose in order to see all the features clearly"
   ]
  },
  {
   "cell_type": "code",
   "execution_count": 30,
   "metadata": {},
   "outputs": [
    {
     "data": {
      "text/html": [
       "<div>\n",
       "<style scoped>\n",
       "    .dataframe tbody tr th:only-of-type {\n",
       "        vertical-align: middle;\n",
       "    }\n",
       "\n",
       "    .dataframe tbody tr th {\n",
       "        vertical-align: top;\n",
       "    }\n",
       "\n",
       "    .dataframe thead th {\n",
       "        text-align: right;\n",
       "    }\n",
       "</style>\n",
       "<table border=\"1\" class=\"dataframe\">\n",
       "  <thead>\n",
       "    <tr style=\"text-align: right;\">\n",
       "      <th></th>\n",
       "      <th>id</th>\n",
       "      <th>date</th>\n",
       "      <th>price</th>\n",
       "      <th>bedrooms</th>\n",
       "      <th>bathrooms</th>\n",
       "      <th>sqft_living</th>\n",
       "      <th>sqft_lot</th>\n",
       "      <th>floors</th>\n",
       "      <th>waterfront</th>\n",
       "      <th>view</th>\n",
       "      <th>condition</th>\n",
       "      <th>grade</th>\n",
       "      <th>sqft_above</th>\n",
       "      <th>sqft_basement</th>\n",
       "      <th>yr_built</th>\n",
       "      <th>zipcode</th>\n",
       "      <th>lat</th>\n",
       "      <th>long</th>\n",
       "      <th>sqft_living15</th>\n",
       "      <th>sqft_lot15</th>\n",
       "    </tr>\n",
       "  </thead>\n",
       "  <tbody>\n",
       "    <tr>\n",
       "      <td>21592</td>\n",
       "      <td>263000018</td>\n",
       "      <td>2014-05-21</td>\n",
       "      <td>360000</td>\n",
       "      <td>3</td>\n",
       "      <td>2.50</td>\n",
       "      <td>1530.0</td>\n",
       "      <td>1131.0</td>\n",
       "      <td>3.0</td>\n",
       "      <td>0.0</td>\n",
       "      <td>0.0</td>\n",
       "      <td>3</td>\n",
       "      <td>8</td>\n",
       "      <td>1530.0</td>\n",
       "      <td>0.0</td>\n",
       "      <td>2009</td>\n",
       "      <td>98103</td>\n",
       "      <td>47.6993</td>\n",
       "      <td>-122.346</td>\n",
       "      <td>1530.0</td>\n",
       "      <td>1509.0</td>\n",
       "    </tr>\n",
       "    <tr>\n",
       "      <td>21593</td>\n",
       "      <td>6600060120</td>\n",
       "      <td>2015-02-23</td>\n",
       "      <td>400000</td>\n",
       "      <td>4</td>\n",
       "      <td>2.50</td>\n",
       "      <td>2310.0</td>\n",
       "      <td>5813.0</td>\n",
       "      <td>2.0</td>\n",
       "      <td>0.0</td>\n",
       "      <td>0.0</td>\n",
       "      <td>3</td>\n",
       "      <td>8</td>\n",
       "      <td>2310.0</td>\n",
       "      <td>0.0</td>\n",
       "      <td>2014</td>\n",
       "      <td>98146</td>\n",
       "      <td>47.5107</td>\n",
       "      <td>-122.362</td>\n",
       "      <td>1830.0</td>\n",
       "      <td>7200.0</td>\n",
       "    </tr>\n",
       "    <tr>\n",
       "      <td>21594</td>\n",
       "      <td>1523300141</td>\n",
       "      <td>2014-06-23</td>\n",
       "      <td>402101</td>\n",
       "      <td>2</td>\n",
       "      <td>0.75</td>\n",
       "      <td>1020.0</td>\n",
       "      <td>1350.0</td>\n",
       "      <td>2.0</td>\n",
       "      <td>0.0</td>\n",
       "      <td>0.0</td>\n",
       "      <td>3</td>\n",
       "      <td>7</td>\n",
       "      <td>1020.0</td>\n",
       "      <td>0.0</td>\n",
       "      <td>2009</td>\n",
       "      <td>98144</td>\n",
       "      <td>47.5944</td>\n",
       "      <td>-122.299</td>\n",
       "      <td>1020.0</td>\n",
       "      <td>2007.0</td>\n",
       "    </tr>\n",
       "    <tr>\n",
       "      <td>21595</td>\n",
       "      <td>291310100</td>\n",
       "      <td>2015-01-16</td>\n",
       "      <td>400000</td>\n",
       "      <td>3</td>\n",
       "      <td>2.50</td>\n",
       "      <td>1600.0</td>\n",
       "      <td>2388.0</td>\n",
       "      <td>2.0</td>\n",
       "      <td>0.0</td>\n",
       "      <td>0.0</td>\n",
       "      <td>3</td>\n",
       "      <td>8</td>\n",
       "      <td>1600.0</td>\n",
       "      <td>0.0</td>\n",
       "      <td>2004</td>\n",
       "      <td>98027</td>\n",
       "      <td>47.5345</td>\n",
       "      <td>-122.069</td>\n",
       "      <td>1410.0</td>\n",
       "      <td>1287.0</td>\n",
       "    </tr>\n",
       "    <tr>\n",
       "      <td>21596</td>\n",
       "      <td>1523300157</td>\n",
       "      <td>2014-10-15</td>\n",
       "      <td>325000</td>\n",
       "      <td>2</td>\n",
       "      <td>0.75</td>\n",
       "      <td>1020.0</td>\n",
       "      <td>1076.0</td>\n",
       "      <td>2.0</td>\n",
       "      <td>0.0</td>\n",
       "      <td>0.0</td>\n",
       "      <td>3</td>\n",
       "      <td>7</td>\n",
       "      <td>1020.0</td>\n",
       "      <td>0.0</td>\n",
       "      <td>2008</td>\n",
       "      <td>98144</td>\n",
       "      <td>47.5941</td>\n",
       "      <td>-122.299</td>\n",
       "      <td>1020.0</td>\n",
       "      <td>1357.0</td>\n",
       "    </tr>\n",
       "  </tbody>\n",
       "</table>\n",
       "</div>"
      ],
      "text/plain": [
       "               id       date   price  bedrooms  bathrooms  sqft_living  \\\n",
       "21592   263000018 2014-05-21  360000         3       2.50       1530.0   \n",
       "21593  6600060120 2015-02-23  400000         4       2.50       2310.0   \n",
       "21594  1523300141 2014-06-23  402101         2       0.75       1020.0   \n",
       "21595   291310100 2015-01-16  400000         3       2.50       1600.0   \n",
       "21596  1523300157 2014-10-15  325000         2       0.75       1020.0   \n",
       "\n",
       "       sqft_lot  floors  waterfront  view  condition  grade  sqft_above  \\\n",
       "21592    1131.0     3.0         0.0   0.0          3      8      1530.0   \n",
       "21593    5813.0     2.0         0.0   0.0          3      8      2310.0   \n",
       "21594    1350.0     2.0         0.0   0.0          3      7      1020.0   \n",
       "21595    2388.0     2.0         0.0   0.0          3      8      1600.0   \n",
       "21596    1076.0     2.0         0.0   0.0          3      7      1020.0   \n",
       "\n",
       "       sqft_basement  yr_built  zipcode      lat     long  sqft_living15  \\\n",
       "21592            0.0      2009    98103  47.6993 -122.346         1530.0   \n",
       "21593            0.0      2014    98146  47.5107 -122.362         1830.0   \n",
       "21594            0.0      2009    98144  47.5944 -122.299         1020.0   \n",
       "21595            0.0      2004    98027  47.5345 -122.069         1410.0   \n",
       "21596            0.0      2008    98144  47.5941 -122.299         1020.0   \n",
       "\n",
       "       sqft_lot15  \n",
       "21592      1509.0  \n",
       "21593      7200.0  \n",
       "21594      2007.0  \n",
       "21595      1287.0  \n",
       "21596      1357.0  "
      ]
     },
     "execution_count": 30,
     "metadata": {},
     "output_type": "execute_result"
    }
   ],
   "source": [
    "df.tail()"
   ]
  },
  {
   "cell_type": "markdown",
   "metadata": {},
   "source": [
    "# EDA\n",
    "Now that we know the what the data looks like let's explore more closely to understand the data better. What are the main questions here \n",
    "1. What are the size and data types and are they consistant with the feature discriptions ? \n",
    "2. are there any Null or missing values? if so what to do about it ? \n",
    "3. get sense of the data interms of the objective. What fields, after a close inspection of the data would relate to the outcome wich is the house price \n",
    "\n",
    "Research into KC dataset I was able to find the specific definitions of the features.\n",
    "* <b>id</b> - ID for each house sold\n",
    "* <b>date</b> - date house sold\n",
    "* <b>price</b> - price of home. is prediction target\n",
    "* <b>bedrooms</b> - of Bedrooms/House \n",
    "* <b>bathrooms</b> - of bathrooms/bedrooms, where 0.5 account for room with a toilet but no shower\n",
    "* <b>sqft_living</b> - footage of the living area\n",
    "* <b>sqft_lot</b> - footage of the land space\n",
    "* <b>floors</b> - floors (levels) in house\n",
    "* <b>waterfront</b> - dummy variable House which has a view to a waterfront\n",
    "* <b>view</b> - index of 0-4 of how good the view of the property \n",
    "* <b>condition</b> - index of 1-5 how good the condition is ( Overall )\n",
    "* <b>grade</b> - index of 1-13 King County grading system. \n",
    "                 1-3 falls short of construction and design, \n",
    "                 7 is average,\n",
    "                 11-13 is high quality. \n",
    "* <b>sqft_above</b> - total footage above ground \n",
    "* <b>sqft_basement</b> - square footage of the basement\n",
    "* <b>yr_built</b> - Built Year\n",
    "* <b>yr_renovated</b> - Year last renovated\n",
    "* <b>zipcode</b> - zipcode\n",
    "* <b>lat</b> - Latitude coordinate\n",
    "* <b>long</b> - Longitude coordinate\n",
    "* <b>sqft_living15</b> - The square footage of interior housing living space for the nearest 15 neighbors\n",
    "* <b>sqft_lot15</b> - The square footage of the land lots of the nearest 15 neighbors"
   ]
  },
  {
   "cell_type": "markdown",
   "metadata": {},
   "source": [
    "## Let's look at the target variable first\n",
    "\n",
    "As we're not going to touch 'Price' in the cleaning process of the data let’s look at the price distribution first. It may give us clues of the boundaries of the dataset. "
   ]
  },
  {
   "cell_type": "code",
   "execution_count": 4,
   "metadata": {
    "scrolled": true
   },
   "outputs": [
    {
     "data": {
      "text/plain": [
       "count    2.159700e+04\n",
       "mean     5.402966e+05\n",
       "std      3.673681e+05\n",
       "min      7.800000e+04\n",
       "25%      3.220000e+05\n",
       "50%      4.500000e+05\n",
       "75%      6.450000e+05\n",
       "max      7.700000e+06\n",
       "Name: price, dtype: float64"
      ]
     },
     "metadata": {},
     "output_type": "display_data"
    },
    {
     "data": {
      "text/plain": [
       "Text(0.5, 1.0, 'Distribution of House prices in king county')"
      ]
     },
     "execution_count": 4,
     "metadata": {},
     "output_type": "execute_result"
    },
    {
     "data": {
      "image/png": "[encoded data removed]",
      "text/plain": [
       "<Figure size 1440x720 with 2 Axes>"
      ]
     },
     "metadata": {},
     "output_type": "display_data"
    }
   ],
   "source": [
    "display(df.price.describe())\n",
    "plt.style.use('ggplot')\n",
    "# Let's create histogram-boxwhisker for price distrbution\n",
    "# cut the window in two parts\n",
    "f, (ax_box, ax_hist) = plt.subplots(2, sharex=True, gridspec_kw={\"height_ratios\": [1, 5]})\n",
    "# now let's add appropriate graphs respectively\n",
    "sns.boxplot(df['price'], ax=ax_box)\n",
    "sns.set(style='whitegrid', palette=\"deep\", font_scale=1.5, rc={\"figure.figsize\":[20, 10]})\n",
    "sns.distplot(\n",
    "    df['price'], norm_hist=False, kde=False, bins=200, hist_kws={\"alpha\": 1}\n",
    ").set(xlabel='House Price', ylabel='count')\n",
    "\n",
    "# now remove axis names from box plot and add a title\n",
    "ax_box.set(xlabel='')\n",
    "plt.title('Distribution of House prices in king county')"
   ]
  },
  {
   "cell_type": "code",
   "execution_count": 5,
   "metadata": {
    "scrolled": true
   },
   "outputs": [
    {
     "data": {
      "text/html": [
       "<div>\n",
       "<style scoped>\n",
       "    .dataframe tbody tr th:only-of-type {\n",
       "        vertical-align: middle;\n",
       "    }\n",
       "\n",
       "    .dataframe tbody tr th {\n",
       "        vertical-align: top;\n",
       "    }\n",
       "\n",
       "    .dataframe thead th {\n",
       "        text-align: right;\n",
       "    }\n",
       "</style>\n",
       "<table border=\"1\" class=\"dataframe\">\n",
       "  <thead>\n",
       "    <tr style=\"text-align: right;\">\n",
       "      <th></th>\n",
       "      <th>id</th>\n",
       "      <th>date</th>\n",
       "      <th>price</th>\n",
       "      <th>bedrooms</th>\n",
       "      <th>bathrooms</th>\n",
       "      <th>sqft_living</th>\n",
       "      <th>sqft_lot</th>\n",
       "      <th>floors</th>\n",
       "      <th>waterfront</th>\n",
       "      <th>view</th>\n",
       "      <th>...</th>\n",
       "      <th>grade</th>\n",
       "      <th>sqft_above</th>\n",
       "      <th>sqft_basement</th>\n",
       "      <th>yr_built</th>\n",
       "      <th>yr_renovated</th>\n",
       "      <th>zipcode</th>\n",
       "      <th>lat</th>\n",
       "      <th>long</th>\n",
       "      <th>sqft_living15</th>\n",
       "      <th>sqft_lot15</th>\n",
       "    </tr>\n",
       "  </thead>\n",
       "  <tbody>\n",
       "    <tr>\n",
       "      <td>153</td>\n",
       "      <td>7855801670</td>\n",
       "      <td>4/1/2015</td>\n",
       "      <td>2250000.0</td>\n",
       "      <td>4</td>\n",
       "      <td>3.25</td>\n",
       "      <td>5180</td>\n",
       "      <td>19850</td>\n",
       "      <td>2.0</td>\n",
       "      <td>0.0</td>\n",
       "      <td>3.0</td>\n",
       "      <td>...</td>\n",
       "      <td>12</td>\n",
       "      <td>3540</td>\n",
       "      <td>1640.0</td>\n",
       "      <td>2006</td>\n",
       "      <td>0.0</td>\n",
       "      <td>98006</td>\n",
       "      <td>47.5620</td>\n",
       "      <td>-122.162</td>\n",
       "      <td>3160</td>\n",
       "      <td>9750</td>\n",
       "    </tr>\n",
       "    <tr>\n",
       "      <td>246</td>\n",
       "      <td>2025069065</td>\n",
       "      <td>9/29/2014</td>\n",
       "      <td>2400000.0</td>\n",
       "      <td>4</td>\n",
       "      <td>2.50</td>\n",
       "      <td>3650</td>\n",
       "      <td>8354</td>\n",
       "      <td>1.0</td>\n",
       "      <td>1.0</td>\n",
       "      <td>4.0</td>\n",
       "      <td>...</td>\n",
       "      <td>9</td>\n",
       "      <td>1830</td>\n",
       "      <td>1820.0</td>\n",
       "      <td>2000</td>\n",
       "      <td>0.0</td>\n",
       "      <td>98074</td>\n",
       "      <td>47.6338</td>\n",
       "      <td>-122.072</td>\n",
       "      <td>3120</td>\n",
       "      <td>18841</td>\n",
       "    </tr>\n",
       "    <tr>\n",
       "      <td>269</td>\n",
       "      <td>7960900060</td>\n",
       "      <td>5/4/2015</td>\n",
       "      <td>2900000.0</td>\n",
       "      <td>4</td>\n",
       "      <td>3.25</td>\n",
       "      <td>5050</td>\n",
       "      <td>20100</td>\n",
       "      <td>1.5</td>\n",
       "      <td>0.0</td>\n",
       "      <td>2.0</td>\n",
       "      <td>...</td>\n",
       "      <td>11</td>\n",
       "      <td>4750</td>\n",
       "      <td>300.0</td>\n",
       "      <td>1982</td>\n",
       "      <td>NaN</td>\n",
       "      <td>98004</td>\n",
       "      <td>47.6312</td>\n",
       "      <td>-122.223</td>\n",
       "      <td>3890</td>\n",
       "      <td>20060</td>\n",
       "    </tr>\n",
       "    <tr>\n",
       "      <td>282</td>\n",
       "      <td>7424700045</td>\n",
       "      <td>5/13/2015</td>\n",
       "      <td>2050000.0</td>\n",
       "      <td>5</td>\n",
       "      <td>3.00</td>\n",
       "      <td>3830</td>\n",
       "      <td>8480</td>\n",
       "      <td>2.0</td>\n",
       "      <td>0.0</td>\n",
       "      <td>1.0</td>\n",
       "      <td>...</td>\n",
       "      <td>9</td>\n",
       "      <td>2630</td>\n",
       "      <td>1200.0</td>\n",
       "      <td>1905</td>\n",
       "      <td>1994.0</td>\n",
       "      <td>98122</td>\n",
       "      <td>47.6166</td>\n",
       "      <td>-122.287</td>\n",
       "      <td>3050</td>\n",
       "      <td>7556</td>\n",
       "    </tr>\n",
       "    <tr>\n",
       "      <td>300</td>\n",
       "      <td>3225069065</td>\n",
       "      <td>6/24/2014</td>\n",
       "      <td>3080000.0</td>\n",
       "      <td>4</td>\n",
       "      <td>5.00</td>\n",
       "      <td>4550</td>\n",
       "      <td>18641</td>\n",
       "      <td>1.0</td>\n",
       "      <td>1.0</td>\n",
       "      <td>4.0</td>\n",
       "      <td>...</td>\n",
       "      <td>10</td>\n",
       "      <td>2600</td>\n",
       "      <td>1950.0</td>\n",
       "      <td>2002</td>\n",
       "      <td>0.0</td>\n",
       "      <td>98074</td>\n",
       "      <td>47.6053</td>\n",
       "      <td>-122.077</td>\n",
       "      <td>4550</td>\n",
       "      <td>19508</td>\n",
       "    </tr>\n",
       "    <tr>\n",
       "      <td>...</td>\n",
       "      <td>...</td>\n",
       "      <td>...</td>\n",
       "      <td>...</td>\n",
       "      <td>...</td>\n",
       "      <td>...</td>\n",
       "      <td>...</td>\n",
       "      <td>...</td>\n",
       "      <td>...</td>\n",
       "      <td>...</td>\n",
       "      <td>...</td>\n",
       "      <td>...</td>\n",
       "      <td>...</td>\n",
       "      <td>...</td>\n",
       "      <td>...</td>\n",
       "      <td>...</td>\n",
       "      <td>...</td>\n",
       "      <td>...</td>\n",
       "      <td>...</td>\n",
       "      <td>...</td>\n",
       "      <td>...</td>\n",
       "      <td>...</td>\n",
       "    </tr>\n",
       "    <tr>\n",
       "      <td>21294</td>\n",
       "      <td>2154970020</td>\n",
       "      <td>7/3/2014</td>\n",
       "      <td>2350000.0</td>\n",
       "      <td>4</td>\n",
       "      <td>4.25</td>\n",
       "      <td>5010</td>\n",
       "      <td>19412</td>\n",
       "      <td>2.0</td>\n",
       "      <td>0.0</td>\n",
       "      <td>1.0</td>\n",
       "      <td>...</td>\n",
       "      <td>11</td>\n",
       "      <td>4000</td>\n",
       "      <td>1010.0</td>\n",
       "      <td>2014</td>\n",
       "      <td>0.0</td>\n",
       "      <td>98040</td>\n",
       "      <td>47.5455</td>\n",
       "      <td>-122.211</td>\n",
       "      <td>3820</td>\n",
       "      <td>17064</td>\n",
       "    </tr>\n",
       "    <tr>\n",
       "      <td>21352</td>\n",
       "      <td>9533100285</td>\n",
       "      <td>6/30/2014</td>\n",
       "      <td>2070000.0</td>\n",
       "      <td>4</td>\n",
       "      <td>3.75</td>\n",
       "      <td>4350</td>\n",
       "      <td>7965</td>\n",
       "      <td>2.0</td>\n",
       "      <td>0.0</td>\n",
       "      <td>0.0</td>\n",
       "      <td>...</td>\n",
       "      <td>10</td>\n",
       "      <td>4350</td>\n",
       "      <td>0.0</td>\n",
       "      <td>2013</td>\n",
       "      <td>0.0</td>\n",
       "      <td>98004</td>\n",
       "      <td>47.6289</td>\n",
       "      <td>-122.205</td>\n",
       "      <td>2190</td>\n",
       "      <td>8557</td>\n",
       "    </tr>\n",
       "    <tr>\n",
       "      <td>21490</td>\n",
       "      <td>2524069097</td>\n",
       "      <td>5/9/2014</td>\n",
       "      <td>2240000.0</td>\n",
       "      <td>5</td>\n",
       "      <td>6.50</td>\n",
       "      <td>7270</td>\n",
       "      <td>130017</td>\n",
       "      <td>2.0</td>\n",
       "      <td>0.0</td>\n",
       "      <td>0.0</td>\n",
       "      <td>...</td>\n",
       "      <td>12</td>\n",
       "      <td>6420</td>\n",
       "      <td>850.0</td>\n",
       "      <td>2010</td>\n",
       "      <td>NaN</td>\n",
       "      <td>98027</td>\n",
       "      <td>47.5371</td>\n",
       "      <td>-121.982</td>\n",
       "      <td>1800</td>\n",
       "      <td>44890</td>\n",
       "    </tr>\n",
       "    <tr>\n",
       "      <td>21514</td>\n",
       "      <td>8964800330</td>\n",
       "      <td>4/7/2015</td>\n",
       "      <td>3000000.0</td>\n",
       "      <td>4</td>\n",
       "      <td>3.75</td>\n",
       "      <td>5090</td>\n",
       "      <td>14823</td>\n",
       "      <td>1.0</td>\n",
       "      <td>0.0</td>\n",
       "      <td>0.0</td>\n",
       "      <td>...</td>\n",
       "      <td>11</td>\n",
       "      <td>4180</td>\n",
       "      <td>910.0</td>\n",
       "      <td>2013</td>\n",
       "      <td>NaN</td>\n",
       "      <td>98004</td>\n",
       "      <td>47.6200</td>\n",
       "      <td>-122.207</td>\n",
       "      <td>3030</td>\n",
       "      <td>12752</td>\n",
       "    </tr>\n",
       "    <tr>\n",
       "      <td>21560</td>\n",
       "      <td>9253900271</td>\n",
       "      <td>1/7/2015</td>\n",
       "      <td>3570000.0</td>\n",
       "      <td>5</td>\n",
       "      <td>4.50</td>\n",
       "      <td>4850</td>\n",
       "      <td>10584</td>\n",
       "      <td>2.0</td>\n",
       "      <td>1.0</td>\n",
       "      <td>4.0</td>\n",
       "      <td>...</td>\n",
       "      <td>10</td>\n",
       "      <td>3540</td>\n",
       "      <td>1310.0</td>\n",
       "      <td>2007</td>\n",
       "      <td>0.0</td>\n",
       "      <td>98008</td>\n",
       "      <td>47.5943</td>\n",
       "      <td>-122.110</td>\n",
       "      <td>3470</td>\n",
       "      <td>18270</td>\n",
       "    </tr>\n",
       "  </tbody>\n",
       "</table>\n",
       "<p>198 rows × 21 columns</p>\n",
       "</div>"
      ],
      "text/plain": [
       "               id       date      price  bedrooms  bathrooms  sqft_living  \\\n",
       "153    7855801670   4/1/2015  2250000.0         4       3.25         5180   \n",
       "246    2025069065  9/29/2014  2400000.0         4       2.50         3650   \n",
       "269    7960900060   5/4/2015  2900000.0         4       3.25         5050   \n",
       "282    7424700045  5/13/2015  2050000.0         5       3.00         3830   \n",
       "300    3225069065  6/24/2014  3080000.0         4       5.00         4550   \n",
       "...           ...        ...        ...       ...        ...          ...   \n",
       "21294  2154970020   7/3/2014  2350000.0         4       4.25         5010   \n",
       "21352  9533100285  6/30/2014  2070000.0         4       3.75         4350   \n",
       "21490  2524069097   5/9/2014  2240000.0         5       6.50         7270   \n",
       "21514  8964800330   4/7/2015  3000000.0         4       3.75         5090   \n",
       "21560  9253900271   1/7/2015  3570000.0         5       4.50         4850   \n",
       "\n",
       "       sqft_lot  floors  waterfront  view  ...  grade  sqft_above  \\\n",
       "153       19850     2.0         0.0   3.0  ...     12        3540   \n",
       "246        8354     1.0         1.0   4.0  ...      9        1830   \n",
       "269       20100     1.5         0.0   2.0  ...     11        4750   \n",
       "282        8480     2.0         0.0   1.0  ...      9        2630   \n",
       "300       18641     1.0         1.0   4.0  ...     10        2600   \n",
       "...         ...     ...         ...   ...  ...    ...         ...   \n",
       "21294     19412     2.0         0.0   1.0  ...     11        4000   \n",
       "21352      7965     2.0         0.0   0.0  ...     10        4350   \n",
       "21490    130017     2.0         0.0   0.0  ...     12        6420   \n",
       "21514     14823     1.0         0.0   0.0  ...     11        4180   \n",
       "21560     10584     2.0         1.0   4.0  ...     10        3540   \n",
       "\n",
       "       sqft_basement yr_built  yr_renovated  zipcode      lat     long  \\\n",
       "153           1640.0     2006           0.0    98006  47.5620 -122.162   \n",
       "246           1820.0     2000           0.0    98074  47.6338 -122.072   \n",
       "269            300.0     1982           NaN    98004  47.6312 -122.223   \n",
       "282           1200.0     1905        1994.0    98122  47.6166 -122.287   \n",
       "300           1950.0     2002           0.0    98074  47.6053 -122.077   \n",
       "...              ...      ...           ...      ...      ...      ...   \n",
       "21294         1010.0     2014           0.0    98040  47.5455 -122.211   \n",
       "21352            0.0     2013           0.0    98004  47.6289 -122.205   \n",
       "21490          850.0     2010           NaN    98027  47.5371 -121.982   \n",
       "21514          910.0     2013           NaN    98004  47.6200 -122.207   \n",
       "21560         1310.0     2007           0.0    98008  47.5943 -122.110   \n",
       "\n",
       "       sqft_living15  sqft_lot15  \n",
       "153             3160        9750  \n",
       "246             3120       18841  \n",
       "269             3890       20060  \n",
       "282             3050        7556  \n",
       "300             4550       19508  \n",
       "...              ...         ...  \n",
       "21294           3820       17064  \n",
       "21352           2190        8557  \n",
       "21490           1800       44890  \n",
       "21514           3030       12752  \n",
       "21560           3470       18270  \n",
       "\n",
       "[198 rows x 21 columns]"
      ]
     },
     "metadata": {},
     "output_type": "display_data"
    },
    {
     "name": "stdout",
     "output_type": "stream",
     "text": [
      "percent of houses over 2 million = 0.92%\n"
     ]
    }
   ],
   "source": [
    "display(df[df.price > 2000000])\n",
    "print(\"percent of houses over 2 million = {:.2f}%\".format((198/21597)*100))"
   ]
  },
  {
   "cell_type": "code",
   "execution_count": 6,
   "metadata": {},
   "outputs": [],
   "source": [
    "''' \n",
    "There's only 0.92 % of data have houses over $ 2 million. These should not conform to normal metric of price predictions.\n",
    "so let's remove them\n",
    "'''\n",
    "df = df[df.price <= 2000000]"
   ]
  },
  {
   "cell_type": "markdown",
   "metadata": {},
   "source": [
    "##  data types correct? Is data clean ?\n"
   ]
  },
  {
   "cell_type": "code",
   "execution_count": 7,
   "metadata": {},
   "outputs": [
    {
     "name": "stdout",
     "output_type": "stream",
     "text": [
      "<class 'pandas.core.frame.DataFrame'>\n",
      "Int64Index: 21399 entries, 0 to 21596\n",
      "Data columns (total 21 columns):\n",
      "id               21399 non-null int64\n",
      "date             21399 non-null object\n",
      "price            21399 non-null float64\n",
      "bedrooms         21399 non-null int64\n",
      "bathrooms        21399 non-null float64\n",
      "sqft_living      21399 non-null int64\n",
      "sqft_lot         21399 non-null int64\n",
      "floors           21399 non-null float64\n",
      "waterfront       19038 non-null float64\n",
      "view             21337 non-null float64\n",
      "condition        21399 non-null int64\n",
      "grade            21399 non-null int64\n",
      "sqft_above       21399 non-null int64\n",
      "sqft_basement    21399 non-null object\n",
      "yr_built         21399 non-null int64\n",
      "yr_renovated     17593 non-null float64\n",
      "zipcode          21399 non-null int64\n",
      "lat              21399 non-null float64\n",
      "long             21399 non-null float64\n",
      "sqft_living15    21399 non-null int64\n",
      "sqft_lot15       21399 non-null int64\n",
      "dtypes: float64(8), int64(11), object(2)\n",
      "memory usage: 3.6+ MB\n"
     ]
    }
   ],
   "source": [
    "# let's check the data types. \n",
    "# do they? make sense? are they consistant ?\n",
    "df.info()"
   ]
  },
  {
   "cell_type": "code",
   "execution_count": 8,
   "metadata": {},
   "outputs": [
    {
     "data": {
      "text/plain": [
       "id                  0\n",
       "date                0\n",
       "price               0\n",
       "bedrooms            0\n",
       "bathrooms           0\n",
       "sqft_living         0\n",
       "sqft_lot            0\n",
       "floors              0\n",
       "waterfront       2361\n",
       "view               62\n",
       "condition           0\n",
       "grade               0\n",
       "sqft_above          0\n",
       "sqft_basement       0\n",
       "yr_built            0\n",
       "yr_renovated     3806\n",
       "zipcode             0\n",
       "lat                 0\n",
       "long                0\n",
       "sqft_living15       0\n",
       "sqft_lot15          0\n",
       "dtype: int64"
      ]
     },
     "execution_count": 8,
     "metadata": {},
     "output_type": "execute_result"
    }
   ],
   "source": [
    "df.isna().sum()"
   ]
  },
  {
   "cell_type": "markdown",
   "metadata": {},
   "source": [
    "### let's take care of Null of waterfront, view and yr_renovated first\n",
    "We only have 21597 entries in this dataset. The waterfront, view and yr_renovated has 2339, 61 and 3754 Null values respectively. \n",
    "Let's take a closer look at waterfront, view and yr_renovated to evaluate the best way to deal with the NUll values! "
   ]
  },
  {
   "cell_type": "code",
   "execution_count": 9,
   "metadata": {},
   "outputs": [
    {
     "data": {
      "text/plain": [
       "count    21337.000000\n",
       "mean         0.217556\n",
       "std          0.732184\n",
       "min          0.000000\n",
       "25%          0.000000\n",
       "50%          0.000000\n",
       "75%          0.000000\n",
       "max          4.000000\n",
       "Name: view, dtype: float64"
      ]
     },
     "metadata": {},
     "output_type": "display_data"
    },
    {
     "data": {
      "text/plain": [
       "<matplotlib.axes._subplots.AxesSubplot at 0x1f31eaecf28>"
      ]
     },
     "execution_count": 9,
     "metadata": {},
     "output_type": "execute_result"
    },
    {
     "data": {
      "image/png": "[encoded data removed]",
      "text/plain": [
       "<Figure size 1440x720 with 1 Axes>"
      ]
     },
     "metadata": {},
     "output_type": "display_data"
    }
   ],
   "source": [
    "display(df.view.describe())\n",
    "plt.style.use('ggplot')\n",
    "df.view.hist()"
   ]
  },
  {
   "cell_type": "code",
   "execution_count": 10,
   "metadata": {},
   "outputs": [],
   "source": [
    "# looking at the distribution it's difficult to say mean is the best replacement value\n",
    "df.view = df.view.fillna(value=df.view.median()) # i'm going with median as the replacement value\n",
    "df['view'] = df['view'].astype('float') # to make sure float "
   ]
  },
  {
   "cell_type": "code",
   "execution_count": 11,
   "metadata": {},
   "outputs": [
    {
     "data": {
      "text/plain": [
       "count    19038.000000\n",
       "mean         0.005410\n",
       "std          0.073357\n",
       "min          0.000000\n",
       "25%          0.000000\n",
       "50%          0.000000\n",
       "75%          0.000000\n",
       "max          1.000000\n",
       "Name: waterfront, dtype: float64"
      ]
     },
     "metadata": {},
     "output_type": "display_data"
    },
    {
     "data": {
      "text/plain": [
       "<matplotlib.axes._subplots.AxesSubplot at 0x1f31dac8358>"
      ]
     },
     "execution_count": 11,
     "metadata": {},
     "output_type": "execute_result"
    },
    {
     "data": {
      "image/png": "[encoded data removed]",
      "text/plain": [
       "<Figure size 1440x720 with 1 Axes>"
      ]
     },
     "metadata": {},
     "output_type": "display_data"
    }
   ],
   "source": [
    "# now the waterfront \n",
    "display(df.waterfront.describe())\n",
    "df.waterfront.hist()"
   ]
  },
  {
   "cell_type": "code",
   "execution_count": 12,
   "metadata": {},
   "outputs": [
    {
     "data": {
      "text/plain": [
       "0.0    18935\n",
       "1.0      103\n",
       "Name: waterfront, dtype: int64"
      ]
     },
     "execution_count": 12,
     "metadata": {},
     "output_type": "execute_result"
    }
   ],
   "source": [
    "# let's see how many properties are actually waterfront \n",
    "df.waterfront.value_counts()"
   ]
  },
  {
   "cell_type": "code",
   "execution_count": 13,
   "metadata": {},
   "outputs": [],
   "source": [
    "# since so many properties are away from waterfront it makes sense to replace the null values with zero or similarly with \n",
    "# waterfront.median() == 0\n",
    "df.waterfront = df.waterfront.fillna(value=df.waterfront.median())\n",
    "df['waterfront'] = df['waterfront'].astype('float') # to make sure float "
   ]
  },
  {
   "cell_type": "code",
   "execution_count": 14,
   "metadata": {},
   "outputs": [
    {
     "data": {
      "text/plain": [
       "count    17593.000000\n",
       "mean        81.342409\n",
       "std        394.655905\n",
       "min          0.000000\n",
       "25%          0.000000\n",
       "50%          0.000000\n",
       "75%          0.000000\n",
       "max       2015.000000\n",
       "Name: yr_renovated, dtype: float64"
      ]
     },
     "metadata": {},
     "output_type": "display_data"
    },
    {
     "data": {
      "text/plain": [
       "<matplotlib.axes._subplots.AxesSubplot at 0x1f31df814e0>"
      ]
     },
     "execution_count": 14,
     "metadata": {},
     "output_type": "execute_result"
    },
    {
     "data": {
      "image/png": "[encoded data removed]",
      "text/plain": [
       "<Figure size 1440x720 with 1 Axes>"
      ]
     },
     "metadata": {},
     "output_type": "display_data"
    }
   ],
   "source": [
    "# let's inspect yr_renovated\n",
    "display(df.yr_renovated.describe())\n",
    "df.yr_renovated.hist()"
   ]
  },
  {
   "cell_type": "code",
   "execution_count": 15,
   "metadata": {},
   "outputs": [
    {
     "name": "stdout",
     "output_type": "stream",
     "text": [
      "0.0       16876\n",
      "2014.0       73\n",
      "2003.0       30\n",
      "2013.0       30\n",
      "2000.0       29\n",
      "          ...  \n",
      "1934.0        1\n",
      "1944.0        1\n",
      "1959.0        1\n",
      "1976.0        1\n",
      "1953.0        1\n",
      "Name: yr_renovated, Length: 70, dtype: int64\n"
     ]
    },
    {
     "data": {
      "text/plain": [
       "0.0"
      ]
     },
     "metadata": {},
     "output_type": "display_data"
    }
   ],
   "source": [
    "print(df.yr_renovated.value_counts())\n",
    "display(df.yr_renovated.median())"
   ]
  },
  {
   "cell_type": "markdown",
   "metadata": {},
   "source": [
    "This means most of yr_renovated feature has dummy values or the last renovated year is not known for 78% of the data. Thus, it maybe okay remove the feature completely.  "
   ]
  },
  {
   "cell_type": "code",
   "execution_count": 16,
   "metadata": {},
   "outputs": [],
   "source": [
    "df = df.drop([\"yr_renovated\"], axis=1) # dropping yr_renovated"
   ]
  },
  {
   "cell_type": "markdown",
   "metadata": {},
   "source": [
    "### let's check again data types. \n"
   ]
  },
  {
   "cell_type": "code",
   "execution_count": 17,
   "metadata": {},
   "outputs": [],
   "source": [
    "#id               21597 non-null int64\n",
    "df['id'] = df['id'].astype('int64') \n",
    "#date             21597 non-null object\n",
    "df['date']= pd.to_datetime(df['date']) \n",
    "#price            21597 non-null float64\n",
    "df['price'] = df['price'].astype('int64') \n",
    "#bedrooms         21597 non-null int64\n",
    "df['bedrooms'] = df['bedrooms'].astype('int64') \n",
    "#bathrooms        21597 non-null float64\n",
    "df['bathrooms'] = df['bathrooms'].astype('float64') \n",
    "#sqft_living      21597 non-null int64\n",
    "df['sqft_living'] = df['sqft_living'].astype('float64') \n",
    "#sqft_lot         21597 non-null int64\n",
    "df['sqft_lot'] = df['sqft_lot'].astype('float64') \n",
    "#floors           21597 non-null float64\n",
    "df['floors'] = df['floors'].astype('float64') \n",
    "#waterfront       19221 non-null float64\n",
    "df['waterfront'] = df['waterfront'].astype('float64') \n",
    "#view             21534 non-null float64\n",
    "df['view'] = df['view'].astype('float64') \n",
    "#condition        21597 non-null int64\n",
    "df['condition'] = df['condition'].astype('int64') \n",
    "#grade            21597 non-null int64\n",
    "df['grade'] = df['grade'].astype('int64') \n",
    "#sqft_above       21597 non-null int64\n",
    "df['sqft_above'] = df['sqft_above'].astype('float64') \n",
    "\n",
    "#yr_built         21597 non-null int64\n",
    "df['yr_built'] = df['yr_built'].astype('int64') \n",
    "#zipcode          21597 non-null int64\n",
    "df['zipcode'] = df['zipcode'].astype('int64') \n",
    "#lat              21597 non-null float64\n",
    "df['lat'] = df['lat'].astype('float64') \n",
    "#long             21597 non-null float64\n",
    "df['long'] = df['long'].astype('float64') \n",
    "#sqft_living15    21597 non-null int64\n",
    "df['sqft_living15'] = df['sqft_living15'].astype('float64') \n",
    "#sqft_lot15       21597 non-null int64 \n",
    "df['sqft_lot15'] = df['sqft_lot15'].astype('float64') "
   ]
  },
  {
   "cell_type": "markdown",
   "metadata": {},
   "source": [
    "### Apparently there is a '?' tag in the data somewhere \n",
    "#sqft_basement    21597 non-null object<br>\n",
    "df['sqft_basement'] = df['sqft_basement'].astype('float64') <br>\n",
    "This doesn't work. Apparently there is a '?' tag in the data somewhere. <br> Let's see what we missed in cleaning. "
   ]
  },
  {
   "cell_type": "code",
   "execution_count": 18,
   "metadata": {},
   "outputs": [
    {
     "data": {
      "text/html": [
       "<div>\n",
       "<style scoped>\n",
       "    .dataframe tbody tr th:only-of-type {\n",
       "        vertical-align: middle;\n",
       "    }\n",
       "\n",
       "    .dataframe tbody tr th {\n",
       "        vertical-align: top;\n",
       "    }\n",
       "\n",
       "    .dataframe thead th {\n",
       "        text-align: right;\n",
       "    }\n",
       "</style>\n",
       "<table border=\"1\" class=\"dataframe\">\n",
       "  <thead>\n",
       "    <tr style=\"text-align: right;\">\n",
       "      <th></th>\n",
       "      <th>id</th>\n",
       "      <th>date</th>\n",
       "      <th>price</th>\n",
       "      <th>bedrooms</th>\n",
       "      <th>bathrooms</th>\n",
       "      <th>sqft_living</th>\n",
       "      <th>sqft_lot</th>\n",
       "      <th>floors</th>\n",
       "      <th>waterfront</th>\n",
       "      <th>view</th>\n",
       "      <th>condition</th>\n",
       "      <th>grade</th>\n",
       "      <th>sqft_above</th>\n",
       "      <th>sqft_basement</th>\n",
       "      <th>yr_built</th>\n",
       "      <th>zipcode</th>\n",
       "      <th>lat</th>\n",
       "      <th>long</th>\n",
       "      <th>sqft_living15</th>\n",
       "      <th>sqft_lot15</th>\n",
       "    </tr>\n",
       "  </thead>\n",
       "  <tbody>\n",
       "    <tr>\n",
       "      <td>6</td>\n",
       "      <td>1321400060</td>\n",
       "      <td>2014-06-27</td>\n",
       "      <td>257500</td>\n",
       "      <td>3</td>\n",
       "      <td>2.25</td>\n",
       "      <td>1715.0</td>\n",
       "      <td>6819.0</td>\n",
       "      <td>2.0</td>\n",
       "      <td>0.0</td>\n",
       "      <td>0.0</td>\n",
       "      <td>3</td>\n",
       "      <td>7</td>\n",
       "      <td>1715.0</td>\n",
       "      <td>?</td>\n",
       "      <td>1995</td>\n",
       "      <td>98003</td>\n",
       "      <td>47.3097</td>\n",
       "      <td>-122.327</td>\n",
       "      <td>2238.0</td>\n",
       "      <td>6819.0</td>\n",
       "    </tr>\n",
       "    <tr>\n",
       "      <td>18</td>\n",
       "      <td>16000397</td>\n",
       "      <td>2014-12-05</td>\n",
       "      <td>189000</td>\n",
       "      <td>2</td>\n",
       "      <td>1.00</td>\n",
       "      <td>1200.0</td>\n",
       "      <td>9850.0</td>\n",
       "      <td>1.0</td>\n",
       "      <td>0.0</td>\n",
       "      <td>0.0</td>\n",
       "      <td>4</td>\n",
       "      <td>7</td>\n",
       "      <td>1200.0</td>\n",
       "      <td>?</td>\n",
       "      <td>1921</td>\n",
       "      <td>98002</td>\n",
       "      <td>47.3089</td>\n",
       "      <td>-122.210</td>\n",
       "      <td>1060.0</td>\n",
       "      <td>5095.0</td>\n",
       "    </tr>\n",
       "    <tr>\n",
       "      <td>42</td>\n",
       "      <td>7203220400</td>\n",
       "      <td>2014-07-07</td>\n",
       "      <td>861990</td>\n",
       "      <td>5</td>\n",
       "      <td>2.75</td>\n",
       "      <td>3595.0</td>\n",
       "      <td>5639.0</td>\n",
       "      <td>2.0</td>\n",
       "      <td>0.0</td>\n",
       "      <td>0.0</td>\n",
       "      <td>3</td>\n",
       "      <td>9</td>\n",
       "      <td>3595.0</td>\n",
       "      <td>?</td>\n",
       "      <td>2014</td>\n",
       "      <td>98053</td>\n",
       "      <td>47.6848</td>\n",
       "      <td>-122.016</td>\n",
       "      <td>3625.0</td>\n",
       "      <td>5639.0</td>\n",
       "    </tr>\n",
       "    <tr>\n",
       "      <td>79</td>\n",
       "      <td>1531000030</td>\n",
       "      <td>2015-03-23</td>\n",
       "      <td>720000</td>\n",
       "      <td>4</td>\n",
       "      <td>2.50</td>\n",
       "      <td>3450.0</td>\n",
       "      <td>39683.0</td>\n",
       "      <td>2.0</td>\n",
       "      <td>0.0</td>\n",
       "      <td>0.0</td>\n",
       "      <td>3</td>\n",
       "      <td>10</td>\n",
       "      <td>3450.0</td>\n",
       "      <td>?</td>\n",
       "      <td>2002</td>\n",
       "      <td>98010</td>\n",
       "      <td>47.3420</td>\n",
       "      <td>-122.025</td>\n",
       "      <td>3350.0</td>\n",
       "      <td>39750.0</td>\n",
       "    </tr>\n",
       "    <tr>\n",
       "      <td>112</td>\n",
       "      <td>2525310310</td>\n",
       "      <td>2014-09-16</td>\n",
       "      <td>272500</td>\n",
       "      <td>3</td>\n",
       "      <td>1.75</td>\n",
       "      <td>1540.0</td>\n",
       "      <td>12600.0</td>\n",
       "      <td>1.0</td>\n",
       "      <td>0.0</td>\n",
       "      <td>0.0</td>\n",
       "      <td>4</td>\n",
       "      <td>7</td>\n",
       "      <td>1160.0</td>\n",
       "      <td>?</td>\n",
       "      <td>1980</td>\n",
       "      <td>98038</td>\n",
       "      <td>47.3624</td>\n",
       "      <td>-122.031</td>\n",
       "      <td>1540.0</td>\n",
       "      <td>11656.0</td>\n",
       "    </tr>\n",
       "    <tr>\n",
       "      <td>...</td>\n",
       "      <td>...</td>\n",
       "      <td>...</td>\n",
       "      <td>...</td>\n",
       "      <td>...</td>\n",
       "      <td>...</td>\n",
       "      <td>...</td>\n",
       "      <td>...</td>\n",
       "      <td>...</td>\n",
       "      <td>...</td>\n",
       "      <td>...</td>\n",
       "      <td>...</td>\n",
       "      <td>...</td>\n",
       "      <td>...</td>\n",
       "      <td>...</td>\n",
       "      <td>...</td>\n",
       "      <td>...</td>\n",
       "      <td>...</td>\n",
       "      <td>...</td>\n",
       "      <td>...</td>\n",
       "      <td>...</td>\n",
       "    </tr>\n",
       "    <tr>\n",
       "      <td>21442</td>\n",
       "      <td>3226049565</td>\n",
       "      <td>2014-07-11</td>\n",
       "      <td>504600</td>\n",
       "      <td>5</td>\n",
       "      <td>3.00</td>\n",
       "      <td>2360.0</td>\n",
       "      <td>5000.0</td>\n",
       "      <td>1.0</td>\n",
       "      <td>0.0</td>\n",
       "      <td>0.0</td>\n",
       "      <td>3</td>\n",
       "      <td>7</td>\n",
       "      <td>1390.0</td>\n",
       "      <td>?</td>\n",
       "      <td>2008</td>\n",
       "      <td>98103</td>\n",
       "      <td>47.6931</td>\n",
       "      <td>-122.330</td>\n",
       "      <td>2180.0</td>\n",
       "      <td>5009.0</td>\n",
       "    </tr>\n",
       "    <tr>\n",
       "      <td>21447</td>\n",
       "      <td>1760650900</td>\n",
       "      <td>2014-07-21</td>\n",
       "      <td>337500</td>\n",
       "      <td>4</td>\n",
       "      <td>2.50</td>\n",
       "      <td>2330.0</td>\n",
       "      <td>4907.0</td>\n",
       "      <td>2.0</td>\n",
       "      <td>0.0</td>\n",
       "      <td>0.0</td>\n",
       "      <td>3</td>\n",
       "      <td>7</td>\n",
       "      <td>2330.0</td>\n",
       "      <td>?</td>\n",
       "      <td>2013</td>\n",
       "      <td>98042</td>\n",
       "      <td>47.3590</td>\n",
       "      <td>-122.081</td>\n",
       "      <td>2300.0</td>\n",
       "      <td>3836.0</td>\n",
       "    </tr>\n",
       "    <tr>\n",
       "      <td>21473</td>\n",
       "      <td>6021503707</td>\n",
       "      <td>2015-01-20</td>\n",
       "      <td>352500</td>\n",
       "      <td>2</td>\n",
       "      <td>2.50</td>\n",
       "      <td>980.0</td>\n",
       "      <td>1010.0</td>\n",
       "      <td>3.0</td>\n",
       "      <td>0.0</td>\n",
       "      <td>0.0</td>\n",
       "      <td>3</td>\n",
       "      <td>8</td>\n",
       "      <td>980.0</td>\n",
       "      <td>?</td>\n",
       "      <td>2008</td>\n",
       "      <td>98117</td>\n",
       "      <td>47.6844</td>\n",
       "      <td>-122.387</td>\n",
       "      <td>980.0</td>\n",
       "      <td>1023.0</td>\n",
       "    </tr>\n",
       "    <tr>\n",
       "      <td>21519</td>\n",
       "      <td>2909310100</td>\n",
       "      <td>2014-10-15</td>\n",
       "      <td>332000</td>\n",
       "      <td>4</td>\n",
       "      <td>2.50</td>\n",
       "      <td>2380.0</td>\n",
       "      <td>5737.0</td>\n",
       "      <td>2.0</td>\n",
       "      <td>0.0</td>\n",
       "      <td>0.0</td>\n",
       "      <td>3</td>\n",
       "      <td>7</td>\n",
       "      <td>2380.0</td>\n",
       "      <td>?</td>\n",
       "      <td>2010</td>\n",
       "      <td>98023</td>\n",
       "      <td>47.2815</td>\n",
       "      <td>-122.356</td>\n",
       "      <td>2380.0</td>\n",
       "      <td>5396.0</td>\n",
       "    </tr>\n",
       "    <tr>\n",
       "      <td>21581</td>\n",
       "      <td>191100405</td>\n",
       "      <td>2015-04-21</td>\n",
       "      <td>1580000</td>\n",
       "      <td>4</td>\n",
       "      <td>3.25</td>\n",
       "      <td>3410.0</td>\n",
       "      <td>10125.0</td>\n",
       "      <td>2.0</td>\n",
       "      <td>0.0</td>\n",
       "      <td>0.0</td>\n",
       "      <td>3</td>\n",
       "      <td>10</td>\n",
       "      <td>3410.0</td>\n",
       "      <td>?</td>\n",
       "      <td>2007</td>\n",
       "      <td>98040</td>\n",
       "      <td>47.5653</td>\n",
       "      <td>-122.223</td>\n",
       "      <td>2290.0</td>\n",
       "      <td>10125.0</td>\n",
       "    </tr>\n",
       "  </tbody>\n",
       "</table>\n",
       "<p>450 rows × 20 columns</p>\n",
       "</div>"
      ],
      "text/plain": [
       "               id       date    price  bedrooms  bathrooms  sqft_living  \\\n",
       "6      1321400060 2014-06-27   257500         3       2.25       1715.0   \n",
       "18       16000397 2014-12-05   189000         2       1.00       1200.0   \n",
       "42     7203220400 2014-07-07   861990         5       2.75       3595.0   \n",
       "79     1531000030 2015-03-23   720000         4       2.50       3450.0   \n",
       "112    2525310310 2014-09-16   272500         3       1.75       1540.0   \n",
       "...           ...        ...      ...       ...        ...          ...   \n",
       "21442  3226049565 2014-07-11   504600         5       3.00       2360.0   \n",
       "21447  1760650900 2014-07-21   337500         4       2.50       2330.0   \n",
       "21473  6021503707 2015-01-20   352500         2       2.50        980.0   \n",
       "21519  2909310100 2014-10-15   332000         4       2.50       2380.0   \n",
       "21581   191100405 2015-04-21  1580000         4       3.25       3410.0   \n",
       "\n",
       "       sqft_lot  floors  waterfront  view  condition  grade  sqft_above  \\\n",
       "6        6819.0     2.0         0.0   0.0          3      7      1715.0   \n",
       "18       9850.0     1.0         0.0   0.0          4      7      1200.0   \n",
       "42       5639.0     2.0         0.0   0.0          3      9      3595.0   \n",
       "79      39683.0     2.0         0.0   0.0          3     10      3450.0   \n",
       "112     12600.0     1.0         0.0   0.0          4      7      1160.0   \n",
       "...         ...     ...         ...   ...        ...    ...         ...   \n",
       "21442    5000.0     1.0         0.0   0.0          3      7      1390.0   \n",
       "21447    4907.0     2.0         0.0   0.0          3      7      2330.0   \n",
       "21473    1010.0     3.0         0.0   0.0          3      8       980.0   \n",
       "21519    5737.0     2.0         0.0   0.0          3      7      2380.0   \n",
       "21581   10125.0     2.0         0.0   0.0          3     10      3410.0   \n",
       "\n",
       "      sqft_basement  yr_built  zipcode      lat     long  sqft_living15  \\\n",
       "6                 ?      1995    98003  47.3097 -122.327         2238.0   \n",
       "18                ?      1921    98002  47.3089 -122.210         1060.0   \n",
       "42                ?      2014    98053  47.6848 -122.016         3625.0   \n",
       "79                ?      2002    98010  47.3420 -122.025         3350.0   \n",
       "112               ?      1980    98038  47.3624 -122.031         1540.0   \n",
       "...             ...       ...      ...      ...      ...            ...   \n",
       "21442             ?      2008    98103  47.6931 -122.330         2180.0   \n",
       "21447             ?      2013    98042  47.3590 -122.081         2300.0   \n",
       "21473             ?      2008    98117  47.6844 -122.387          980.0   \n",
       "21519             ?      2010    98023  47.2815 -122.356         2380.0   \n",
       "21581             ?      2007    98040  47.5653 -122.223         2290.0   \n",
       "\n",
       "       sqft_lot15  \n",
       "6          6819.0  \n",
       "18         5095.0  \n",
       "42         5639.0  \n",
       "79        39750.0  \n",
       "112       11656.0  \n",
       "...           ...  \n",
       "21442      5009.0  \n",
       "21447      3836.0  \n",
       "21473      1023.0  \n",
       "21519      5396.0  \n",
       "21581     10125.0  \n",
       "\n",
       "[450 rows x 20 columns]"
      ]
     },
     "metadata": {},
     "output_type": "display_data"
    }
   ],
   "source": [
    "df_sqft_basement=df[df.sqft_basement == '?']  # how many sqft_basement rows have ? \n",
    "display(df_sqft_basement)"
   ]
  },
  {
   "cell_type": "code",
   "execution_count": 19,
   "metadata": {},
   "outputs": [
    {
     "data": {
      "text/plain": [
       "0.0       12775\n",
       "?           450\n",
       "600.0       215\n",
       "500.0       209\n",
       "700.0       205\n",
       "          ...  \n",
       "225.0         1\n",
       "861.0         1\n",
       "2196.0        1\n",
       "172.0         1\n",
       "1248.0        1\n",
       "Name: sqft_basement, Length: 292, dtype: int64"
      ]
     },
     "metadata": {},
     "output_type": "display_data"
    },
    {
     "data": {
      "text/plain": [
       "<matplotlib.axes._subplots.AxesSubplot at 0x1f31ea85240>"
      ]
     },
     "execution_count": 19,
     "metadata": {},
     "output_type": "execute_result"
    },
    {
     "data": {
      "image/png": "[encoded data removed]",
      "text/plain": [
       "<Figure size 1440x720 with 1 Axes>"
      ]
     },
     "metadata": {},
     "output_type": "display_data"
    }
   ],
   "source": [
    "display(df.sqft_basement.value_counts())\n",
    "# display(df.sqft_basement.mean()) # can't calculate because of the '?' label \n",
    "df.sqft_basement.hist(bins=10) # histogram looks wierd becuase of the lable '?' as well "
   ]
  },
  {
   "cell_type": "code",
   "execution_count": 21,
   "metadata": {
    "scrolled": true
   },
   "outputs": [
    {
     "data": {
      "text/plain": [
       "array([[<matplotlib.axes._subplots.AxesSubplot object at 0x000001F321EDC780>,\n",
       "        <matplotlib.axes._subplots.AxesSubplot object at 0x000001F321F1D6D8>,\n",
       "        <matplotlib.axes._subplots.AxesSubplot object at 0x000001F321E90CF8>,\n",
       "        <matplotlib.axes._subplots.AxesSubplot object at 0x000001F321F276D8>],\n",
       "       [<matplotlib.axes._subplots.AxesSubplot object at 0x000001F321F3D080>,\n",
       "        <matplotlib.axes._subplots.AxesSubplot object at 0x000001F321F56A20>,\n",
       "        <matplotlib.axes._subplots.AxesSubplot object at 0x000001F3217AA400>,\n",
       "        <matplotlib.axes._subplots.AxesSubplot object at 0x000001F3217D8DD8>],\n",
       "       [<matplotlib.axes._subplots.AxesSubplot object at 0x000001F3217D8E10>,\n",
       "        <matplotlib.axes._subplots.AxesSubplot object at 0x000001F32184D160>,\n",
       "        <matplotlib.axes._subplots.AxesSubplot object at 0x000001F32187DB00>,\n",
       "        <matplotlib.axes._subplots.AxesSubplot object at 0x000001F3218B64E0>],\n",
       "       [<matplotlib.axes._subplots.AxesSubplot object at 0x000001F3218E5E80>,\n",
       "        <matplotlib.axes._subplots.AxesSubplot object at 0x000001F32191D860>,\n",
       "        <matplotlib.axes._subplots.AxesSubplot object at 0x000001F321959240>,\n",
       "        <matplotlib.axes._subplots.AxesSubplot object at 0x000001F321987BE0>],\n",
       "       [<matplotlib.axes._subplots.AxesSubplot object at 0x000001F3219C05C0>,\n",
       "        <matplotlib.axes._subplots.AxesSubplot object at 0x000001F3219EFF60>,\n",
       "        <matplotlib.axes._subplots.AxesSubplot object at 0x000001F321A27940>,\n",
       "        <matplotlib.axes._subplots.AxesSubplot object at 0x000001F321A63320>]],\n",
       "      dtype=object)"
      ]
     },
     "execution_count": 21,
     "metadata": {},
     "output_type": "execute_result"
    },
    {
     "data": {
      "image/png": "[encoded data removed]",
      "text/plain": [
       "<Figure size 1152x1440 with 20 Axes>"
      ]
     },
     "metadata": {},
     "output_type": "display_data"
    }
   ],
   "source": [
    "# What does the rest of the data look like for the basement with '?' tag. I'm assuming it means the the data for these\n",
    "# rows was simply not available \n",
    "df_sqft_basement.hist(figsize=(16,20), bins=50, xlabelsize=8, ylabelsize=8)"
   ]
  },
  {
   "cell_type": "markdown",
   "metadata": {},
   "source": [
    "Although it's 2% of the data rest of the features for those data seems reasonable and doedn't make sense to drop those records. So I'm going to replace those with zero. "
   ]
  },
  {
   "cell_type": "code",
   "execution_count": 22,
   "metadata": {},
   "outputs": [
    {
     "data": {
      "text/plain": [
       "0.0       13225\n",
       "600.0       215\n",
       "500.0       209\n",
       "700.0       205\n",
       "800.0       200\n",
       "          ...  \n",
       "602.0         1\n",
       "1281.0        1\n",
       "915.0         1\n",
       "2130.0        1\n",
       "1890.0        1\n",
       "Name: sqft_basement, Length: 291, dtype: int64"
      ]
     },
     "metadata": {},
     "output_type": "display_data"
    },
    {
     "data": {
      "text/plain": [
       "count    21399.000000\n",
       "mean       279.038506\n",
       "std        428.251572\n",
       "min          0.000000\n",
       "25%          0.000000\n",
       "50%          0.000000\n",
       "75%        530.000000\n",
       "max       3260.000000\n",
       "Name: sqft_basement, dtype: float64"
      ]
     },
     "metadata": {},
     "output_type": "display_data"
    },
    {
     "data": {
      "text/plain": [
       "<matplotlib.axes._subplots.AxesSubplot at 0x1f32318b898>"
      ]
     },
     "execution_count": 22,
     "metadata": {},
     "output_type": "execute_result"
    },
    {
     "data": {
      "image/png": "[encoded data removed]",
      "text/plain": [
       "<Figure size 1440x720 with 1 Axes>"
      ]
     },
     "metadata": {},
     "output_type": "display_data"
    }
   ],
   "source": [
    "df['sqft_basement'] = df['sqft_basement'].apply(lambda b: 0.0 if b == '?' else b)\n",
    "# make sure data type is float\n",
    "df['sqft_basement'] = df['sqft_basement'].astype('float64') \n",
    "display(df.sqft_basement.value_counts())\n",
    "display(df.sqft_basement.describe()) # can't calculate because of the '?' label \n",
    "df.sqft_basement.hist()"
   ]
  },
  {
   "cell_type": "code",
   "execution_count": 23,
   "metadata": {
    "scrolled": true
   },
   "outputs": [
    {
     "name": "stdout",
     "output_type": "stream",
     "text": [
      "<class 'pandas.core.frame.DataFrame'>\n",
      "Int64Index: 21399 entries, 0 to 21596\n",
      "Data columns (total 20 columns):\n",
      "id               21399 non-null int64\n",
      "date             21399 non-null datetime64[ns]\n",
      "price            21399 non-null int64\n",
      "bedrooms         21399 non-null int64\n",
      "bathrooms        21399 non-null float64\n",
      "sqft_living      21399 non-null float64\n",
      "sqft_lot         21399 non-null float64\n",
      "floors           21399 non-null float64\n",
      "waterfront       21399 non-null float64\n",
      "view             21399 non-null float64\n",
      "condition        21399 non-null int64\n",
      "grade            21399 non-null int64\n",
      "sqft_above       21399 non-null float64\n",
      "sqft_basement    21399 non-null float64\n",
      "yr_built         21399 non-null int64\n",
      "zipcode          21399 non-null int64\n",
      "lat              21399 non-null float64\n",
      "long             21399 non-null float64\n",
      "sqft_living15    21399 non-null float64\n",
      "sqft_lot15       21399 non-null float64\n",
      "dtypes: datetime64[ns](1), float64(12), int64(7)\n",
      "memory usage: 3.4 MB\n"
     ]
    }
   ],
   "source": [
    "df.info()"
   ]
  },
  {
   "cell_type": "markdown",
   "metadata": {},
   "source": [
    "## are there any more outliers ? \n",
    "let's make histograms"
   ]
  },
  {
   "cell_type": "code",
   "execution_count": 24,
   "metadata": {
    "scrolled": true
   },
   "outputs": [
    {
     "data": {
      "text/plain": [
       "array([[<matplotlib.axes._subplots.AxesSubplot object at 0x000001F32322B630>,\n",
       "        <matplotlib.axes._subplots.AxesSubplot object at 0x000001F31EE18A58>,\n",
       "        <matplotlib.axes._subplots.AxesSubplot object at 0x000001F31EE2E400>,\n",
       "        <matplotlib.axes._subplots.AxesSubplot object at 0x000001F31EE4BDA0>],\n",
       "       [<matplotlib.axes._subplots.AxesSubplot object at 0x000001F31EE84780>,\n",
       "        <matplotlib.axes._subplots.AxesSubplot object at 0x000001F31EEBE160>,\n",
       "        <matplotlib.axes._subplots.AxesSubplot object at 0x000001F32319F470>,\n",
       "        <matplotlib.axes._subplots.AxesSubplot object at 0x000001F31EF0AE48>],\n",
       "       [<matplotlib.axes._subplots.AxesSubplot object at 0x000001F31EF0AE80>,\n",
       "        <matplotlib.axes._subplots.AxesSubplot object at 0x000001F31EF7F1D0>,\n",
       "        <matplotlib.axes._subplots.AxesSubplot object at 0x000001F31EFACB70>,\n",
       "        <matplotlib.axes._subplots.AxesSubplot object at 0x000001F322AD6550>],\n",
       "       [<matplotlib.axes._subplots.AxesSubplot object at 0x000001F322B05EF0>,\n",
       "        <matplotlib.axes._subplots.AxesSubplot object at 0x000001F322B3D8D0>,\n",
       "        <matplotlib.axes._subplots.AxesSubplot object at 0x000001F322B792B0>,\n",
       "        <matplotlib.axes._subplots.AxesSubplot object at 0x000001F322BA9C50>],\n",
       "       [<matplotlib.axes._subplots.AxesSubplot object at 0x000001F322BE1630>,\n",
       "        <matplotlib.axes._subplots.AxesSubplot object at 0x000001F322C11FD0>,\n",
       "        <matplotlib.axes._subplots.AxesSubplot object at 0x000001F322C499B0>,\n",
       "        <matplotlib.axes._subplots.AxesSubplot object at 0x000001F322C85390>]],\n",
       "      dtype=object)"
      ]
     },
     "execution_count": 24,
     "metadata": {},
     "output_type": "execute_result"
    },
    {
     "data": {
      "image/png": "[encoded data removed]",
      "text/plain": [
       "<Figure size 1152x1440 with 20 Axes>"
      ]
     },
     "metadata": {},
     "output_type": "display_data"
    }
   ],
   "source": [
    "df.hist(figsize=(16,20), bins=50, xlabelsize=8, ylabelsize=8)"
   ]
  },
  {
   "cell_type": "code",
   "execution_count": 25,
   "metadata": {
    "scrolled": true
   },
   "outputs": [
    {
     "data": {
      "text/plain": [
       "3     9793\n",
       "4     6792\n",
       "2     2759\n",
       "5     1544\n",
       "6      260\n",
       "1      196\n",
       "7       33\n",
       "8       11\n",
       "9        6\n",
       "10       3\n",
       "11       1\n",
       "33       1\n",
       "Name: bedrooms, dtype: int64"
      ]
     },
     "metadata": {},
     "output_type": "display_data"
    }
   ],
   "source": [
    "# bedrooms look odd \n",
    "display(df.bedrooms.value_counts())"
   ]
  },
  {
   "cell_type": "code",
   "execution_count": 26,
   "metadata": {},
   "outputs": [],
   "source": [
    "# clearly 33 bedrooms is an outlier \n",
    "df = df[df.bedrooms < 33]"
   ]
  },
  {
   "cell_type": "markdown",
   "metadata": {},
   "source": [
    "## All data is clean and ready for analysis\n",
    "Save the clean data to a kc_house_data_clean.csv file"
   ]
  },
  {
   "cell_type": "code",
   "execution_count": 27,
   "metadata": {},
   "outputs": [],
   "source": [
    "df.to_csv('data/kc_house_data_clean.csv', index=False)"
   ]
  },
  {
   "cell_type": "markdown",
   "metadata": {},
   "source": [
    "<p style=\"font-size:200%; text-align:center\">Please open modelling.ipynb next for modelling</p>"
   ]
  },
  {
   "cell_type": "code",
   "execution_count": null,
   "metadata": {},
   "outputs": [],
   "source": []
  }
 ],
 "metadata": {
  "kernelspec": {
   "display_name": "Python [conda env:learn-env] *",
   "language": "python",
   "name": "conda-env-learn-env-py"
  },
  "language_info": {
   "codemirror_mode": {
    "name": "ipython",
    "version": 3
   },
   "file_extension": ".py",
   "mimetype": "text/x-python",
   "name": "python",
   "nbconvert_exporter": "python",
   "pygments_lexer": "ipython3",
   "version": "3.6.9"
  },
  "toc": {
   "base_numbering": 1,
   "nav_menu": {},
   "number_sections": true,
   "sideBar": true,
   "skip_h1_title": false,
   "title_cell": "Table of Contents",
   "title_sidebar": "Contents",
   "toc_cell": false,
   "toc_position": {},
   "toc_section_display": true,
   "toc_window_display": false
  }
 },
 "nbformat": 4,
 "nbformat_minor": 2
}
